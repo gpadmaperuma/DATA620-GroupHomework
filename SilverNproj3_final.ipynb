{
 "cells": [
  {
   "cell_type": "markdown",
   "metadata": {},
   "source": [
    "## Project 3: Gender Name Classifier\n",
    "## CUNY MSDS DATA 620 Web Analytics, CUNY Spring 2018\n",
    "---\n",
    "### Team5: Christopher Estevez, Meaghan Burke, Rickidon Singh,  Ritesh Lohiya, Rose Koh\n",
    "### 07/09/2018 (due date)\n",
    "##### python version: 3.6\n",
    "---\n"
   ]
  },
  {
   "cell_type": "markdown",
   "metadata": {},
   "source": [
    "\n",
    "<h2> Assignment Details </h2>\n",
    "\n",
    "For this project, please work with the entire class as one collaborative group!Your project should be\n",
    "submitted (as a Jupyter Notebook via GitHub) by end of the due date. The group should present their\n",
    "code and findings in our meetup.\n",
    "\n",
    "<i>The ability to be an effective member of a virtual team is highly valued in the data science job market. </i>\n",
    "\n",
    "\n",
    "-------------------------------------------------------------------------------------------------------------\n",
    "\n",
    "Using any of the three classifiers described in chapter 6 of <b>Natural Language Processing with Python</b>,\n",
    "and any features you can think of, build the best name gender classifier you can.\n",
    "\n",
    "Begin by splitting the Names Corpus into three subsets: 500 words for the test set, 500 words for the devtest\n",
    "set, and the remaining 6900 words for the training set. Then, starting with the example name gender\n",
    "classifier, make incremental improvements. Use the dev-test set to check your progress. Once you are\n",
    "satisfied with your classifier, check its final performance on the test set.\n",
    "\n",
    "How does the performance on the test set compare to the performance on the dev-test set? Is this what\n",
    "you'd expect?\n",
    "\n",
    "Source: Natural Language Processing with Python, exercise 6.10.2.\n",
    "\n"
   ]
  },
  {
   "cell_type": "markdown",
   "metadata": {},
   "source": [
    "## Load Packages"
   ]
  },
  {
   "cell_type": "markdown",
   "metadata": {},
   "source": [
    "import nltk\n",
    "nltk.download('names')"
   ]
  },
  {
   "cell_type": "code",
   "execution_count": 4,
   "metadata": {},
   "outputs": [],
   "source": [
    "from nltk.corpus import names\n",
    "import random\n",
    "from nltk.classify import apply_features"
   ]
  },
  {
   "cell_type": "markdown",
   "metadata": {},
   "source": [
    "## Get Data"
   ]
  },
  {
   "cell_type": "code",
   "execution_count": 5,
   "metadata": {},
   "outputs": [],
   "source": [
    "names = ([(name, 'male') for name in names.words('male.txt')] +\n",
    "[(name, 'female') for name in names.words('female.txt')])\n",
    "random.shuffle(names)"
   ]
  },
  {
   "cell_type": "code",
   "execution_count": 6,
   "metadata": {},
   "outputs": [
    {
     "data": {
      "text/plain": [
       "[('Joyan', 'female'),\n",
       " ('Jesus', 'male'),\n",
       " ('Aggie', 'female'),\n",
       " ('Vilhelmina', 'female'),\n",
       " ('Vernice', 'female'),\n",
       " ('Upton', 'male'),\n",
       " ('Ransom', 'male'),\n",
       " ('Gardner', 'male'),\n",
       " ('Adora', 'female'),\n",
       " ('Boyce', 'male')]"
      ]
     },
     "execution_count": 6,
     "metadata": {},
     "output_type": "execute_result"
    }
   ],
   "source": [
    "names[0:10]"
   ]
  },
  {
   "cell_type": "code",
   "execution_count": 7,
   "metadata": {},
   "outputs": [],
   "source": [
    "import nltk\n",
    "from nltk.classify import apply_features\n",
    "import random\n",
    "import math"
   ]
  },
  {
   "cell_type": "code",
   "execution_count": 8,
   "metadata": {},
   "outputs": [
    {
     "data": {
      "text/plain": [
       "7944"
      ]
     },
     "execution_count": 8,
     "metadata": {},
     "output_type": "execute_result"
    }
   ],
   "source": [
    "len(names)"
   ]
  },
  {
   "cell_type": "code",
   "execution_count": 9,
   "metadata": {},
   "outputs": [],
   "source": [
    "test_set = names[:500]\n",
    "devtest_set = names[500:1000]   # Error-analysis set\n",
    "train_set = names[1000:]        # Training set"
   ]
  },
  {
   "cell_type": "markdown",
   "metadata": {},
   "source": [
    "## Features - A"
   ]
  },
  {
   "cell_type": "code",
   "execution_count": 10,
   "metadata": {},
   "outputs": [],
   "source": [
    "def gender_features2(name):\n",
    "    features = {}\n",
    "    features[\"firstletter\"] = name[0].lower()\n",
    "    features[\"lastletter\"] = name[-1].lower()\n",
    "    features[\"suffix2\"]= name[-2:].lower()\n",
    "    features[\"preffix2\"]= name[:2].lower()\n",
    "    for letter in 'aeiou':\n",
    "        features[\"count(%s)\" % letter] = name.lower().count(letter)\n",
    "        features[\"has(%s)\" % letter] = (letter in name.lower())\n",
    "    return features"
   ]
  },
  {
   "cell_type": "markdown",
   "metadata": {},
   "source": [
    "## Split Data"
   ]
  },
  {
   "cell_type": "code",
   "execution_count": 11,
   "metadata": {},
   "outputs": [
    {
     "data": {
      "text/plain": [
       "({'firstletter': 'j',\n",
       "  'lastletter': 'n',\n",
       "  'suffix2': 'an',\n",
       "  'preffix2': 'jo',\n",
       "  'count(a)': 1,\n",
       "  'has(a)': True,\n",
       "  'count(e)': 0,\n",
       "  'has(e)': False,\n",
       "  'count(i)': 0,\n",
       "  'has(i)': False,\n",
       "  'count(o)': 1,\n",
       "  'has(o)': True,\n",
       "  'count(u)': 0,\n",
       "  'has(u)': False},\n",
       " 'female')"
      ]
     },
     "execution_count": 11,
     "metadata": {},
     "output_type": "execute_result"
    }
   ],
   "source": [
    "featuresets = [(gender_features2(n), g) for (n,g) in names]\n",
    "featuresets[0]\n"
   ]
  },
  {
   "cell_type": "code",
   "execution_count": 12,
   "metadata": {},
   "outputs": [],
   "source": [
    "train_set_fe = featuresets[1000:]\n",
    "test_set_fe =featuresets[:500]\n",
    "devtest_set_fe =featuresets[500:1000]"
   ]
  },
  {
   "cell_type": "markdown",
   "metadata": {},
   "source": [
    "## Classifier - NaiveBayes"
   ]
  },
  {
   "cell_type": "code",
   "execution_count": 13,
   "metadata": {},
   "outputs": [],
   "source": [
    "classifier = nltk.NaiveBayesClassifier.train(train_set_fe)"
   ]
  },
  {
   "cell_type": "code",
   "execution_count": 14,
   "metadata": {},
   "outputs": [
    {
     "name": "stdout",
     "output_type": "stream",
     "text": [
      "male\n",
      "female\n"
     ]
    }
   ],
   "source": [
    "print(classifier.classify(gender_features2('Neo'))) #male\n",
    "print(classifier.classify(gender_features2('Trinity'))) #female"
   ]
  },
  {
   "cell_type": "code",
   "execution_count": 15,
   "metadata": {},
   "outputs": [
    {
     "name": "stdout",
     "output_type": "stream",
     "text": [
      "train_set:  0.8087557603686636\n",
      "test_set:  0.808\n",
      "devtest_set:  0.778\n"
     ]
    }
   ],
   "source": [
    "# Show Accuracy\n",
    "print(\"train_set: \", nltk.classify.accuracy(classifier, train_set_fe))\n",
    "print(\"test_set: \", nltk.classify.accuracy(classifier, test_set_fe))\n",
    "print(\"devtest_set: \", nltk.classify.accuracy(classifier, devtest_set_fe))"
   ]
  },
  {
   "cell_type": "code",
   "execution_count": 16,
   "metadata": {},
   "outputs": [
    {
     "name": "stdout",
     "output_type": "stream",
     "text": [
      "Most Informative Features\n",
      "                 suffix2 = 'na'           female : male   =     90.5 : 1.0\n",
      "                 suffix2 = 'ia'           female : male   =     52.9 : 1.0\n",
      "              lastletter = 'a'            female : male   =     41.0 : 1.0\n",
      "              lastletter = 'k'              male : female =     30.2 : 1.0\n",
      "                 suffix2 = 'us'             male : female =     26.3 : 1.0\n",
      "                 suffix2 = 'do'             male : female =     26.0 : 1.0\n",
      "              lastletter = 'f'              male : female =     25.4 : 1.0\n",
      "                 suffix2 = 'ra'           female : male   =     24.2 : 1.0\n",
      "                 suffix2 = 'ta'           female : male   =     23.8 : 1.0\n",
      "                 suffix2 = 'rd'             male : female =     23.1 : 1.0\n",
      "                 suffix2 = 'ld'             male : female =     22.2 : 1.0\n",
      "                 suffix2 = 'rt'             male : female =     18.7 : 1.0\n",
      "                 suffix2 = 'im'             male : female =     17.2 : 1.0\n",
      "                 suffix2 = 'os'             male : female =     16.0 : 1.0\n",
      "                 suffix2 = 'io'             male : female =     15.6 : 1.0\n",
      "                preffix2 = 'hu'             male : female =     15.0 : 1.0\n",
      "                 suffix2 = 'ea'           female : male   =     14.7 : 1.0\n",
      "                 suffix2 = 'di'           female : male   =     13.9 : 1.0\n",
      "              lastletter = 'p'              male : female =     11.8 : 1.0\n",
      "                preffix2 = 'ya'             male : female =     11.6 : 1.0\n"
     ]
    }
   ],
   "source": [
    "# Show important features\n",
    "classifier.show_most_informative_features(20)"
   ]
  },
  {
   "cell_type": "code",
   "execution_count": 17,
   "metadata": {},
   "outputs": [],
   "source": [
    "# Check errors\n",
    "errors = []\n",
    "for (name, tag) in devtest_set:\n",
    "    guess = classifier.classify(gender_features2(name))\n",
    "    if guess != tag:\n",
    "        errors.append( (tag, guess, name) )\n"
   ]
  },
  {
   "cell_type": "code",
   "execution_count": 18,
   "metadata": {},
   "outputs": [
    {
     "name": "stdout",
     "output_type": "stream",
     "text": [
      "correct=female   guess=male     name=Abbey     \n",
      "correct=female   guess=male     name=Allyson   \n",
      "correct=female   guess=male     name=Alyss     \n",
      "correct=female   guess=male     name=Ayn       \n",
      "correct=female   guess=male     name=Brigid    \n",
      "correct=female   guess=male     name=Britt     \n",
      "correct=female   guess=male     name=Bunnie    \n",
      "correct=female   guess=male     name=Cat       \n",
      "correct=female   guess=male     name=Cherry    \n",
      "correct=female   guess=male     name=Colleen   \n",
      "correct=female   guess=male     name=Cordy     \n",
      "correct=female   guess=male     name=Cyndy     \n",
      "correct=female   guess=male     name=Devin     \n",
      "correct=female   guess=male     name=Elonore   \n",
      "correct=female   guess=male     name=Evvy      \n",
      "correct=female   guess=male     name=Gabey     \n",
      "correct=female   guess=male     name=Garland   \n",
      "correct=female   guess=male     name=Gilly     \n",
      "correct=female   guess=male     name=Goldie    \n",
      "correct=female   guess=male     name=Haley     \n",
      "correct=female   guess=male     name=Hally     \n",
      "correct=female   guess=male     name=Hayley    \n",
      "correct=female   guess=male     name=Helen     \n",
      "correct=female   guess=male     name=Jenifer   \n",
      "correct=female   guess=male     name=Joelynn   \n",
      "correct=female   guess=male     name=Jordan    \n",
      "correct=female   guess=male     name=Kerrin    \n",
      "correct=female   guess=male     name=Korry     \n",
      "correct=female   guess=male     name=Lamb      \n",
      "correct=female   guess=male     name=Lauren    \n",
      "correct=female   guess=male     name=Lynett    \n",
      "correct=female   guess=male     name=Margot    \n",
      "correct=female   guess=male     name=Marion    \n",
      "correct=female   guess=male     name=Melisent  \n",
      "correct=female   guess=male     name=Mellicent \n",
      "correct=female   guess=male     name=Melloney  \n",
      "correct=female   guess=male     name=Melody    \n",
      "correct=female   guess=male     name=Nat       \n",
      "correct=female   guess=male     name=Oliy      \n",
      "correct=female   guess=male     name=Quentin   \n",
      "correct=female   guess=male     name=Rachel    \n",
      "correct=female   guess=male     name=Rahal     \n",
      "correct=female   guess=male     name=Renel     \n",
      "correct=female   guess=male     name=Renell    \n",
      "correct=female   guess=male     name=Robby     \n",
      "correct=female   guess=male     name=Roselyn   \n",
      "correct=female   guess=male     name=Roxy      \n",
      "correct=female   guess=male     name=Roz       \n",
      "correct=female   guess=male     name=Salome    \n",
      "correct=female   guess=male     name=Sheelagh  \n",
      "correct=female   guess=male     name=Stacy     \n",
      "correct=female   guess=male     name=Stormie   \n",
      "correct=female   guess=male     name=Tandy     \n",
      "correct=female   guess=male     name=Ted       \n",
      "correct=female   guess=male     name=Tiff      \n",
      "correct=female   guess=male     name=Tobe      \n",
      "correct=female   guess=male     name=Tommie    \n",
      "correct=female   guess=male     name=Tuesday   \n",
      "correct=female   guess=male     name=Vikky     \n",
      "correct=female   guess=male     name=Wally     \n",
      "correct=female   guess=male     name=Wynny     \n",
      "correct=male     guess=female   name=Adrien    \n",
      "correct=male     guess=female   name=Aldwin    \n",
      "correct=male     guess=female   name=Anatol    \n",
      "correct=male     guess=female   name=Antin     \n",
      "correct=male     guess=female   name=Ashby     \n",
      "correct=male     guess=female   name=Avi       \n",
      "correct=male     guess=female   name=Bailie    \n",
      "correct=male     guess=female   name=Benjamen  \n",
      "correct=male     guess=female   name=Benji     \n",
      "correct=male     guess=female   name=Calvin    \n",
      "correct=male     guess=female   name=Carlin    \n",
      "correct=male     guess=female   name=Cass      \n",
      "correct=male     guess=female   name=Che       \n",
      "correct=male     guess=female   name=Corrie    \n",
      "correct=male     guess=female   name=Daffy     \n",
      "correct=male     guess=female   name=Danie     \n",
      "correct=male     guess=female   name=Dante     \n",
      "correct=male     guess=female   name=Davin     \n",
      "correct=male     guess=female   name=Eli       \n",
      "correct=male     guess=female   name=Eustace   \n",
      "correct=male     guess=female   name=Fazeel    \n",
      "correct=male     guess=female   name=Ferdie    \n",
      "correct=male     guess=female   name=Glen      \n",
      "correct=male     guess=female   name=Henri     \n",
      "correct=male     guess=female   name=Irvine    \n",
      "correct=male     guess=female   name=Jedediah  \n",
      "correct=male     guess=female   name=Jodie     \n",
      "correct=male     guess=female   name=Keil      \n",
      "correct=male     guess=female   name=Lindsay   \n",
      "correct=male     guess=female   name=Marko     \n",
      "correct=male     guess=female   name=Marven    \n",
      "correct=male     guess=female   name=Michal    \n",
      "correct=male     guess=female   name=Mika      \n",
      "correct=male     guess=female   name=Nickie    \n",
      "correct=male     guess=female   name=Pennie    \n",
      "correct=male     guess=female   name=Prentice  \n",
      "correct=male     guess=female   name=Prince    \n",
      "correct=male     guess=female   name=Rabbi     \n",
      "correct=male     guess=female   name=Saxe      \n",
      "correct=male     guess=female   name=Sergei    \n",
      "correct=male     guess=female   name=Shea      \n",
      "correct=male     guess=female   name=Sollie    \n",
      "correct=male     guess=female   name=Tammie    \n",
      "correct=male     guess=female   name=Timothee  \n",
      "correct=male     guess=female   name=Tremayne  \n",
      "correct=male     guess=female   name=Verney    \n",
      "correct=male     guess=female   name=Vince     \n",
      "correct=male     guess=female   name=Yehudi    \n",
      "correct=male     guess=female   name=Zacharia  \n",
      "correct=male     guess=female   name=Zane      \n"
     ]
    }
   ],
   "source": [
    "for (tag, guess, name) in sorted(errors): # doctest: +ELLIPSIS +NORMALIZE_WHITESPACE\n",
    "   # print('correct=%-8s guess=%-8s name=%-30s' % (tag, guess, name))\n",
    "    print('correct=%-8s guess=%-8s name=%-10s' % (tag, guess, name))\n"
   ]
  },
  {
   "cell_type": "code",
   "execution_count": 19,
   "metadata": {},
   "outputs": [
    {
     "name": "stdout",
     "output_type": "stream",
     "text": [
      "Error count:  111\n"
     ]
    }
   ],
   "source": [
    "print(\"Error count: \", len(errors))"
   ]
  },
  {
   "cell_type": "markdown",
   "metadata": {},
   "source": [
    "## Classifier - DecisionTree"
   ]
  },
  {
   "cell_type": "code",
   "execution_count": 17,
   "metadata": {},
   "outputs": [
    {
     "name": "stdout",
     "output_type": "stream",
     "text": [
      "train_set:  0.9360599078341014\n",
      "test_set:  0.728\n",
      "devtest_set:  0.76\n"
     ]
    }
   ],
   "source": [
    "classifier_tree = nltk.DecisionTreeClassifier.train(train_set_fe)\n",
    "\n",
    "print(\"train_set: \", nltk.classify.accuracy(classifier_tree, train_set_fe))\n",
    "print(\"test_set: \", nltk.classify.accuracy(classifier_tree, test_set_fe))\n",
    "print(\"devtest_set: \", nltk.classify.accuracy(classifier_tree, devtest_set_fe))"
   ]
  },
  {
   "cell_type": "code",
   "execution_count": 18,
   "metadata": {},
   "outputs": [],
   "source": [
    "errors2 = []\n",
    "for (name, tag) in devtest_set:\n",
    "    guess = classifier_tree.classify(gender_features2(name))\n",
    "    if guess != tag:\n",
    "        errors2.append( (tag, guess, name) )\n"
   ]
  },
  {
   "cell_type": "code",
   "execution_count": 61,
   "metadata": {},
   "outputs": [
    {
     "name": "stdout",
     "output_type": "stream",
     "text": [
      "correct=female   guess=male     name=Alex                          \n",
      "correct=female   guess=male     name=Avrit                         \n",
      "correct=female   guess=male     name=Brier                         \n",
      "correct=female   guess=male     name=Brittan                       \n",
      "correct=female   guess=male     name=Chris                         \n",
      "correct=female   guess=male     name=Cory                          \n",
      "correct=female   guess=male     name=Deny                          \n",
      "correct=female   guess=male     name=Dorthy                        \n",
      "correct=female   guess=male     name=Ethelind                      \n",
      "correct=female   guess=male     name=Eveleen                       \n",
      "correct=female   guess=male     name=Evy                           \n",
      "correct=female   guess=male     name=Flossy                        \n",
      "correct=female   guess=male     name=Gael                          \n",
      "correct=female   guess=male     name=Ginnifer                      \n",
      "correct=female   guess=male     name=Glad                          \n",
      "correct=female   guess=male     name=Hildy                         \n",
      "correct=female   guess=male     name=Imogen                        \n",
      "correct=female   guess=male     name=Jerry                         \n",
      "correct=female   guess=male     name=Joselyn                       \n",
      "correct=female   guess=male     name=Mag                           \n",
      "correct=female   guess=male     name=Mair                          \n",
      "correct=female   guess=male     name=Moll                          \n",
      "correct=female   guess=male     name=Morgen                        \n",
      "correct=female   guess=male     name=Nonah                         \n",
      "correct=female   guess=male     name=Nonnah                        \n",
      "correct=female   guess=male     name=Phil                          \n",
      "correct=female   guess=male     name=Phyllys                       \n",
      "correct=female   guess=male     name=Pier                          \n",
      "correct=female   guess=male     name=Prudy                         \n",
      "correct=female   guess=male     name=Ragnhild                      \n",
      "correct=female   guess=male     name=Randy                         \n",
      "correct=female   guess=male     name=Regan                         \n",
      "correct=female   guess=male     name=Robyn                         \n",
      "correct=female   guess=male     name=Rosabel                       \n",
      "correct=female   guess=male     name=Roselyn                       \n",
      "correct=female   guess=male     name=Rosemonde                     \n",
      "correct=female   guess=male     name=Ruthy                         \n",
      "correct=female   guess=male     name=Shamit                        \n",
      "correct=female   guess=male     name=Shanon                        \n",
      "correct=female   guess=male     name=Sharl                         \n",
      "correct=female   guess=male     name=Shaun                         \n",
      "correct=female   guess=male     name=Shir                          \n",
      "correct=female   guess=male     name=Sophey                        \n",
      "correct=female   guess=male     name=Susan                         \n",
      "correct=female   guess=male     name=Tobey                         \n",
      "correct=female   guess=male     name=Toby                          \n",
      "correct=female   guess=male     name=Tony                          \n",
      "correct=female   guess=male     name=Trish                         \n",
      "correct=female   guess=male     name=Val                           \n",
      "correct=female   guess=male     name=Wallie                        \n",
      "correct=female   guess=male     name=Winonah                       \n",
      "correct=male     guess=female   name=Abbie                         \n",
      "correct=male     guess=female   name=Addie                         \n",
      "correct=male     guess=female   name=Agustin                       \n",
      "correct=male     guess=female   name=Ajai                          \n",
      "correct=male     guess=female   name=Alain                         \n",
      "correct=male     guess=female   name=Alphonse                      \n",
      "correct=male     guess=female   name=Alwin                         \n",
      "correct=male     guess=female   name=Ansell                        \n",
      "correct=male     guess=female   name=Ashby                         \n",
      "correct=male     guess=female   name=Averil                        \n",
      "correct=male     guess=female   name=Bela                          \n",
      "correct=male     guess=female   name=Bertie                        \n",
      "correct=male     guess=female   name=Brodie                        \n",
      "correct=male     guess=female   name=Carmine                       \n",
      "correct=male     guess=female   name=Cat                           \n",
      "correct=male     guess=female   name=Chase                         \n",
      "correct=male     guess=female   name=Darien                        \n",
      "correct=male     guess=female   name=Dominique                     \n",
      "correct=male     guess=female   name=Finley                        \n",
      "correct=male     guess=female   name=Ismail                        \n",
      "correct=male     guess=female   name=Jeremie                       \n",
      "correct=male     guess=female   name=Josiah                        \n",
      "correct=male     guess=female   name=Kincaid                       \n",
      "correct=male     guess=female   name=Laurie                        \n",
      "correct=male     guess=female   name=Lesley                        \n",
      "correct=male     guess=female   name=Marchall                      \n",
      "correct=male     guess=female   name=Marlin                        \n",
      "correct=male     guess=female   name=Mattie                        \n",
      "correct=male     guess=female   name=Mendie                        \n",
      "correct=male     guess=female   name=Mike                          \n",
      "correct=male     guess=female   name=Morrie                        \n",
      "correct=male     guess=female   name=Nevile                        \n",
      "correct=male     guess=female   name=Nickie                        \n",
      "correct=male     guess=female   name=Paige                         \n",
      "correct=male     guess=female   name=Partha                        \n",
      "correct=male     guess=female   name=Pascal                        \n",
      "correct=male     guess=female   name=Sayre                         \n",
      "correct=male     guess=female   name=Scotti                        \n",
      "correct=male     guess=female   name=Thane                         \n",
      "correct=male     guess=female   name=Tremayne                      \n",
      "correct=male     guess=female   name=Verge                         \n"
     ]
    }
   ],
   "source": [
    "for (tag, guess, name) in sorted(errors): # doctest: +ELLIPSIS +NORMALIZE_WHITESPACE\n",
    "    print('correct=%-8s guess=%-8s name=%-30s' % (tag, guess, name))"
   ]
  },
  {
   "cell_type": "code",
   "execution_count": 62,
   "metadata": {},
   "outputs": [
    {
     "name": "stdout",
     "output_type": "stream",
     "text": [
      "Error count\n"
     ]
    },
    {
     "data": {
      "text/plain": [
       "117"
      ]
     },
     "execution_count": 62,
     "metadata": {},
     "output_type": "execute_result"
    }
   ],
   "source": [
    "print(\"Error count\")\n",
    "len(errors2)"
   ]
  },
  {
   "cell_type": "markdown",
   "metadata": {},
   "source": [
    "---"
   ]
  },
  {
   "cell_type": "markdown",
   "metadata": {},
   "source": [
    "## Features - B"
   ]
  },
  {
   "cell_type": "code",
   "execution_count": 65,
   "metadata": {},
   "outputs": [],
   "source": [
    "# extract name’s characteristics\n",
    "def gender_features(name):\n",
    "    name = name.lower()\n",
    "    return{\n",
    "        'first_letter': name[0],\n",
    "        'first2_letter': name[0:2],\n",
    "        'first3_letter': name[0:3],\n",
    "        'last_letter': name[-1],\n",
    "        'last2_letter': name[-2:],\n",
    "        'last3_letter': name[-3:],\n",
    "        'last_vowel': (name[-1] in 'aeiou')\n",
    "    }"
   ]
  },
  {
   "cell_type": "code",
   "execution_count": 66,
   "metadata": {},
   "outputs": [
    {
     "data": {
      "text/plain": [
       "{'first_letter': 'r',\n",
       " 'first2_letter': 'ro',\n",
       " 'first3_letter': 'ros',\n",
       " 'last_letter': 'e',\n",
       " 'last2_letter': 'se',\n",
       " 'last3_letter': 'ose',\n",
       " 'last_vowel': True}"
      ]
     },
     "execution_count": 66,
     "metadata": {},
     "output_type": "execute_result"
    }
   ],
   "source": [
    "gender_features(\"Rose\")"
   ]
  },
  {
   "cell_type": "markdown",
   "metadata": {},
   "source": [
    "## Vectorize"
   ]
  },
  {
   "cell_type": "code",
   "execution_count": 67,
   "metadata": {},
   "outputs": [
    {
     "name": "stdout",
     "output_type": "stream",
     "text": [
      "[{'first_letter': 'r', 'first2_letter': 'ro', 'first3_letter': 'ros', 'last_letter': 'e', 'last2_letter': 'se', 'last3_letter': 'ose', 'last_vowel': True}\n",
      " {'first_letter': 'm', 'first2_letter': 'mi', 'first3_letter': 'mik', 'last_letter': 'e', 'last2_letter': 'ke', 'last3_letter': 'ike', 'last_vowel': True}]\n"
     ]
    }
   ],
   "source": [
    "import numpy as np\n",
    "\n",
    "# Vectorize the features function\n",
    "features = np.vectorize(gender_features)\n",
    "print(features(['Rose', 'Mike']))"
   ]
  },
  {
   "cell_type": "code",
   "execution_count": 68,
   "metadata": {},
   "outputs": [
    {
     "name": "stdout",
     "output_type": "stream",
     "text": [
      "Name: Jereme, features={'first_letter': 'j', 'first2_letter': 'je', 'first3_letter': 'jer', 'last_letter': 'e', 'last2_letter': 'me', 'last3_letter': 'eme', 'last_vowel': True}, gender=male\n"
     ]
    }
   ],
   "source": [
    "# Extract the features for entire dataset\n",
    "X = np.array(features(names))[:, 0] # X contains the features\n",
    "\n",
    "# Get the gender column\n",
    "y = np.array(names)[:, 1]           # y contains the targets\n",
    "\n",
    "print(\"Name: %s, features=%s, gender=%s\" % (names[0][0], X[0], y[0]))"
   ]
  },
  {
   "cell_type": "code",
   "execution_count": 69,
   "metadata": {},
   "outputs": [
    {
     "name": "stdout",
     "output_type": "stream",
     "text": [
      "test:  500\n",
      "devtest:  500\n",
      "train:  6944\n"
     ]
    }
   ],
   "source": [
    "# Shuffle and split:  train, dev-test, test \n",
    "from sklearn.utils import shuffle\n",
    "X,y = shuffle(X,y)\n",
    "\n",
    "X_test, X_dev_test, X_train = X[:500], X[500:1000], X[1000:]\n",
    "y_test, y_dev_test, y_train = y[:500], y[500:1000], y[1000:]\n",
    "\n",
    "print(\"test: \" , len(X_test))\n",
    "print(\"devtest: \", len(X_dev_test))\n",
    "print(\"train: \", len(X_train))"
   ]
  },
  {
   "cell_type": "code",
   "execution_count": 70,
   "metadata": {},
   "outputs": [
    {
     "name": "stdout",
     "output_type": "stream",
     "text": [
      "[{'first_letter': 'r', 'first2_letter': 'ro', 'first3_letter': 'ros', 'last_letter': 'e', 'last2_letter': 'se', 'last3_letter': 'ose', 'last_vowel': True}\n",
      " {'first_letter': 'm', 'first2_letter': 'mi', 'first3_letter': 'mik', 'last_letter': 'e', 'last2_letter': 'ke', 'last3_letter': 'ike', 'last_vowel': True}]\n",
      "  (0, 169)\t1.0\n",
      "  (0, 1226)\t1.0\n",
      "  (0, 1527)\t1.0\n",
      "  (0, 1741)\t1.0\n",
      "  (0, 2688)\t1.0\n",
      "  (0, 3143)\t1.0\n",
      "  (0, 3164)\t1.0\n",
      "  (1, 130)\t1.0\n",
      "  (1, 1005)\t1.0\n",
      "  (1, 1522)\t1.0\n",
      "  (1, 1655)\t1.0\n",
      "  (1, 2289)\t1.0\n",
      "  (1, 3143)\t1.0\n",
      "  (1, 3164)\t1.0\n",
      "<class 'scipy.sparse.csr.csr_matrix'>\n",
      "0.0\n",
      "first2_letter=ap\n"
     ]
    }
   ],
   "source": [
    "# Use vectorizer to transform the features into feature-vectors.\n",
    "from sklearn.feature_extraction import DictVectorizer\n",
    "\n",
    "print(features(['Rose', 'Mike']))\n",
    "\n",
    "# train the vectorizer to know the possible features and values.\n",
    "vectorizer = DictVectorizer()\n",
    "vectorizer.fit(X_train)\n",
    "\n",
    "transform = vectorizer.transform(features(['Rose', 'Mike']))\n",
    "print(transform)\n",
    "print(type(transform))\n",
    "print(transform.toarray()[0][12])\n",
    "print(vectorizer.feature_names_[12])"
   ]
  },
  {
   "cell_type": "markdown",
   "metadata": {},
   "source": [
    "## Classifier - DecisionTree"
   ]
  },
  {
   "cell_type": "code",
   "execution_count": 71,
   "metadata": {},
   "outputs": [
    {
     "data": {
      "text/plain": [
       "DecisionTreeClassifier()"
      ]
     },
     "execution_count": 71,
     "metadata": {},
     "output_type": "execute_result"
    }
   ],
   "source": [
    "from sklearn.tree import DecisionTreeClassifier\n",
    "# DT classifier to extract discriminating rules from the features. \n",
    "DT_classifier = DecisionTreeClassifier()\n",
    "\n",
    "DT_classifier.fit(vectorizer.transform(X_train), y_train)"
   ]
  },
  {
   "cell_type": "code",
   "execution_count": 72,
   "metadata": {},
   "outputs": [
    {
     "name": "stdout",
     "output_type": "stream",
     "text": [
      "['male' 'female']\n"
     ]
    }
   ],
   "source": [
    "print(DT_classifier.predict(vectorizer.transform(features([\"Sebastian\", \"Amy\"]))))"
   ]
  },
  {
   "cell_type": "code",
   "execution_count": 73,
   "metadata": {},
   "outputs": [
    {
     "name": "stdout",
     "output_type": "stream",
     "text": [
      "Accuracy on training set:  0.9598214285714286\n",
      "Accuracy on dev-test set:  0.774\n",
      "Accuracy on test set:  0.768\n"
     ]
    }
   ],
   "source": [
    "# Accuracy\n",
    "print(\"Accuracy on training set: \", DT_classifier.score(vectorizer.transform(X_train), y_train))\n",
    "print(\"Accuracy on dev-test set: \",DT_classifier.score(vectorizer.transform(X_dev_test), y_dev_test))\n",
    "print(\"Accuracy on test set: \",DT_classifier.score(vectorizer.transform(X_test), y_test))\n"
   ]
  },
  {
   "cell_type": "code",
   "execution_count": 74,
   "metadata": {},
   "outputs": [
    {
     "name": "stdout",
     "output_type": "stream",
     "text": [
      "Cross Validation\n",
      "Train Score = 0.782258\n",
      "Dev Test Score = 0.730000\n",
      "Test Score = 0.744000\n"
     ]
    }
   ],
   "source": [
    "# cross validation\n",
    "from sklearn.model_selection import cross_val_predict\n",
    "from sklearn.metrics import accuracy_score\n",
    "\n",
    "pred_train = cross_val_predict(DT_classifier, vectorizer.transform(X_train), y_train, cv = 100)\n",
    "pred_dev_test = cross_val_predict(DT_classifier, vectorizer.transform(X_dev_test), y_dev_test, cv = 100)\n",
    "pred_test = cross_val_predict(DT_classifier, vectorizer.transform(X_test), y_test, cv = 100)\n",
    "\n",
    "score_train = accuracy_score(y_train, pred_train)\n",
    "score_dev_test = accuracy_score(y_dev_test, pred_dev_test)\n",
    "score_test = accuracy_score(y_test, pred_test)\n",
    "\n",
    "print(\"Cross Validation\")\n",
    "print(\"Train Score = {0:5f}\".format(score_train))\n",
    "print(\"Dev Test Score = {0:5f}\".format(score_dev_test))\n",
    "print(\"Test Score = {0:5f}\".format(score_test))\n"
   ]
  },
  {
   "cell_type": "markdown",
   "metadata": {},
   "source": [
    "## Conclusion"
   ]
  },
  {
   "cell_type": "markdown",
   "metadata": {},
   "source": [
    "* How does the performance on the test set compare to the performance on the dev-test set? Is this what you'd expect?"
   ]
  },
  {
   "cell_type": "markdown",
   "metadata": {},
   "source": [
    "The performance on the test set is lower compared to the performance of the dev-test set.  As we optimize against the dev-test set, we are likely to create overfitting, thus generalizing the outcome to the model will be ineffective as the test set is unseen data for the model.  The training accuracy is higher as the model performs better on the data it has seen before compared to the data it has unseen."
   ]
  },
  {
   "cell_type": "markdown",
   "metadata": {},
   "source": [
    "## Source\n",
    "\n",
    "https://www.nltk.org/book/ch06.html"
   ]
  },
  {
   "cell_type": "code",
   "execution_count": null,
   "metadata": {},
   "outputs": [],
   "source": []
  }
 ],
 "metadata": {
  "kernelspec": {
   "display_name": "Python 3",
   "language": "python",
   "name": "python3"
  },
  "language_info": {
   "codemirror_mode": {
    "name": "ipython",
    "version": 3
   },
   "file_extension": ".py",
   "mimetype": "text/x-python",
   "name": "python",
   "nbconvert_exporter": "python",
   "pygments_lexer": "ipython3",
   "version": "3.8.5"
  }
 },
 "nbformat": 4,
 "nbformat_minor": 2
}
