{
  "nbformat": 4,
  "nbformat_minor": 0,
  "metadata": {
    "colab": {
      "name": "DATA 620 - High Frequency Words.ipynb",
      "provenance": []
    },
    "kernelspec": {
      "name": "python3",
      "display_name": "Python 3"
    },
    "language_info": {
      "name": "python"
    }
  },
  "cells": [
    {
      "cell_type": "markdown",
      "metadata": {
        "id": "y1GIOSD19xjW"
      },
      "source": [
        "# DATA 620\n",
        "# Assignment – High Frequency Words\n",
        "by Don Padmaperuma & Grace Han"
      ]
    },
    {
      "cell_type": "markdown",
      "metadata": {
        "id": "4dKCCWr3-Cd9"
      },
      "source": [
        "1. Choose a corpus of interest.\n",
        "2. How many total unique words are in the corpus? (Please feel free to define unique words in any interesting,\n",
        "defensible way).\n",
        "3. Taking the most common words, how many unique words represent half of the total words in the corpus?\n",
        "4. Identify the 200 highest frequency words in this corpus.\n",
        "5. Create a graph that shows the relative frequency of these 200 words.\n",
        "6. Does the observed relative frequency of these words follow Zipf’s law? Explain.\n",
        "7. In what ways do you think the frequency of the words in this corpus differ from “all words in all corpora.”"
      ]
    },
    {
      "cell_type": "code",
      "metadata": {
        "id": "Dhh-AcV--JHe"
      },
      "source": [
        "import nltk as nltk\n",
        "import pandas as pd\n",
        "import matplotlib.pyplot as plt\n",
        "import string\n",
        "import numpy as np"
      ],
      "execution_count": 65,
      "outputs": []
    },
    {
      "cell_type": "markdown",
      "metadata": {
        "id": "d0RbgsLhd1Zz"
      },
      "source": [
        "## Choose a corpus of interest\n",
        "\n",
        "The Brown Corpus was the first million-word electronic corpus of English, created in 1961 at Brown University. This corpus contains text from 500 sources, and the sources have been categorized by genre, such as news, editorial, and so on. 1.1 gives an example of each genre (for a complete list, see http://icame.uib.no/brown/bcm-los.html)."
      ]
    },
    {
      "cell_type": "code",
      "metadata": {
        "id": "E52QSguBau9v"
      },
      "source": [
        "from nltk.corpus import brown"
      ],
      "execution_count": 66,
      "outputs": []
    },
    {
      "cell_type": "code",
      "metadata": {
        "colab": {
          "base_uri": "https://localhost:8080/"
        },
        "id": "zWaZXXp6bO0K",
        "outputId": "8524281c-de2e-4cff-b693-e03406ea6c19"
      },
      "source": [
        "nltk.download('brown')\n"
      ],
      "execution_count": 67,
      "outputs": [
        {
          "output_type": "stream",
          "text": [
            "[nltk_data] Downloading package brown to /root/nltk_data...\n",
            "[nltk_data]   Package brown is already up-to-date!\n"
          ],
          "name": "stdout"
        },
        {
          "output_type": "execute_result",
          "data": {
            "text/plain": [
              "True"
            ]
          },
          "metadata": {
            "tags": []
          },
          "execution_count": 67
        }
      ]
    },
    {
      "cell_type": "code",
      "metadata": {
        "colab": {
          "base_uri": "https://localhost:8080/"
        },
        "id": "dr31M4MYbc11",
        "outputId": "54300c62-5d34-4cc1-cc06-431ce4dc81c6"
      },
      "source": [
        "brown.words()[:10]"
      ],
      "execution_count": 68,
      "outputs": [
        {
          "output_type": "execute_result",
          "data": {
            "text/plain": [
              "['The',\n",
              " 'Fulton',\n",
              " 'County',\n",
              " 'Grand',\n",
              " 'Jury',\n",
              " 'said',\n",
              " 'Friday',\n",
              " 'an',\n",
              " 'investigation',\n",
              " 'of']"
            ]
          },
          "metadata": {
            "tags": []
          },
          "execution_count": 68
        }
      ]
    },
    {
      "cell_type": "code",
      "metadata": {
        "colab": {
          "base_uri": "https://localhost:8080/"
        },
        "id": "tp4H959TBa-Y",
        "outputId": "2dba6cd0-30ed-494c-e4a0-d56c39a26870"
      },
      "source": [
        "len(brown.words())"
      ],
      "execution_count": 69,
      "outputs": [
        {
          "output_type": "execute_result",
          "data": {
            "text/plain": [
              "1161192"
            ]
          },
          "metadata": {
            "tags": []
          },
          "execution_count": 69
        }
      ]
    },
    {
      "cell_type": "markdown",
      "metadata": {
        "id": "2jN-tYKhcs8D"
      },
      "source": [
        "## find unique words in brown corpus\n",
        "\n",
        "In our next process we will remove the common english words/stopwords such as 'a', 'the' etc. Also we have import string package for punctuations. But the string package do not comes with all the punctuations. So we added extra punctuations to the list.\n",
        "\n"
      ]
    },
    {
      "cell_type": "code",
      "metadata": {
        "id": "DREjpkYrcJRi"
      },
      "source": [
        "# I found that string.punctuation did not include all the punctuations of brown words, here I added extra punctuation in the following list\n",
        "punctuation = ['!','\"','#','$','%','&',\"'\",'(',')','*','+',',','-','.','/',':',';','<','=','>','?','@','[','\\\\',']','^','_','`','{','|','}','~','``',\"''\",'--']"
      ],
      "execution_count": 70,
      "outputs": []
    },
    {
      "cell_type": "code",
      "metadata": {
        "id": "zArcYfgNcP1F"
      },
      "source": [
        "\n",
        "from nltk.corpus import stopwords\n",
        "lower_words = [x.lower() for x in brown.words()]\n",
        "pun_stop = punctuation + stopwords.words('english')\n",
        "filter_words1 = [x for x in lower_words if x not in pun_stop]\n",
        "filter_brown = list(filter(lambda x: x.isalpha() and len(x) > 1, filter_words1)) # remove numbers and single letter words"
      ],
      "execution_count": 71,
      "outputs": []
    },
    {
      "cell_type": "code",
      "metadata": {
        "colab": {
          "base_uri": "https://localhost:8080/"
        },
        "id": "RjDp8So7drIL",
        "outputId": "f38d413f-ec22-4f4a-c39b-838d5e23280b"
      },
      "source": [
        "#unique words in the corpus\n",
        "brown_unique = set(filter_brown)\n",
        "len(brown_unique)"
      ],
      "execution_count": 72,
      "outputs": [
        {
          "output_type": "execute_result",
          "data": {
            "text/plain": [
              "40079"
            ]
          },
          "metadata": {
            "tags": []
          },
          "execution_count": 72
        }
      ]
    },
    {
      "cell_type": "code",
      "metadata": {
        "colab": {
          "base_uri": "https://localhost:8080/"
        },
        "id": "uEmuA0ZiC8Zj",
        "outputId": "1c7a19f0-ac7b-4788-acff-a73dc19fab77"
      },
      "source": [
        "#frequency distribution\n",
        "freq_dis = nltk.FreqDist(filter_brown)\n",
        "print(freq_dis)"
      ],
      "execution_count": 31,
      "outputs": [
        {
          "output_type": "stream",
          "text": [
            "<FreqDist with 40079 samples and 508631 outcomes>\n"
          ],
          "name": "stdout"
        }
      ]
    },
    {
      "cell_type": "markdown",
      "metadata": {
        "id": "NlJaEKX-sgEK"
      },
      "source": [
        "## Most common words, how many unique words represent half of the total words in the corpus?"
      ]
    },
    {
      "cell_type": "code",
      "metadata": {
        "colab": {
          "base_uri": "https://localhost:8080/",
          "height": 669
        },
        "id": "BnYlxn0JFZBR",
        "outputId": "46328539-41ad-48d2-cd81-3860d0815352"
      },
      "source": [
        "#Create Cumulative Frequency Table\n",
        "df_all_words = pd.DataFrame(filter_brown)\n",
        "df_all_words.columns = ['word']\n",
        "df_all_words_freq = pd.DataFrame(df_all_words['word'].value_counts()).reset_index(drop=False)\n",
        "df_all_words_freq.columns = ['word', 'frequency']\n",
        "df_all_words_freq['cumulative_frequency'] = df_all_words_freq['frequency'].cumsum()\n",
        "df_all_words_freq.sort_values(by='frequency', ascending=False).head(20)\n"
      ],
      "execution_count": 50,
      "outputs": [
        {
          "output_type": "execute_result",
          "data": {
            "text/html": [
              "<div>\n",
              "<style scoped>\n",
              "    .dataframe tbody tr th:only-of-type {\n",
              "        vertical-align: middle;\n",
              "    }\n",
              "\n",
              "    .dataframe tbody tr th {\n",
              "        vertical-align: top;\n",
              "    }\n",
              "\n",
              "    .dataframe thead th {\n",
              "        text-align: right;\n",
              "    }\n",
              "</style>\n",
              "<table border=\"1\" class=\"dataframe\">\n",
              "  <thead>\n",
              "    <tr style=\"text-align: right;\">\n",
              "      <th></th>\n",
              "      <th>word</th>\n",
              "      <th>frequency</th>\n",
              "      <th>cumulative_frequency</th>\n",
              "    </tr>\n",
              "  </thead>\n",
              "  <tbody>\n",
              "    <tr>\n",
              "      <th>0</th>\n",
              "      <td>one</td>\n",
              "      <td>3292</td>\n",
              "      <td>3292</td>\n",
              "    </tr>\n",
              "    <tr>\n",
              "      <th>1</th>\n",
              "      <td>would</td>\n",
              "      <td>2714</td>\n",
              "      <td>6006</td>\n",
              "    </tr>\n",
              "    <tr>\n",
              "      <th>2</th>\n",
              "      <td>said</td>\n",
              "      <td>1961</td>\n",
              "      <td>7967</td>\n",
              "    </tr>\n",
              "    <tr>\n",
              "      <th>3</th>\n",
              "      <td>new</td>\n",
              "      <td>1635</td>\n",
              "      <td>9602</td>\n",
              "    </tr>\n",
              "    <tr>\n",
              "      <th>4</th>\n",
              "      <td>could</td>\n",
              "      <td>1601</td>\n",
              "      <td>11203</td>\n",
              "    </tr>\n",
              "    <tr>\n",
              "      <th>5</th>\n",
              "      <td>time</td>\n",
              "      <td>1598</td>\n",
              "      <td>12801</td>\n",
              "    </tr>\n",
              "    <tr>\n",
              "      <th>6</th>\n",
              "      <td>two</td>\n",
              "      <td>1412</td>\n",
              "      <td>14213</td>\n",
              "    </tr>\n",
              "    <tr>\n",
              "      <th>7</th>\n",
              "      <td>may</td>\n",
              "      <td>1402</td>\n",
              "      <td>15615</td>\n",
              "    </tr>\n",
              "    <tr>\n",
              "      <th>8</th>\n",
              "      <td>first</td>\n",
              "      <td>1361</td>\n",
              "      <td>16976</td>\n",
              "    </tr>\n",
              "    <tr>\n",
              "      <th>9</th>\n",
              "      <td>like</td>\n",
              "      <td>1292</td>\n",
              "      <td>18268</td>\n",
              "    </tr>\n",
              "    <tr>\n",
              "      <th>10</th>\n",
              "      <td>man</td>\n",
              "      <td>1207</td>\n",
              "      <td>19475</td>\n",
              "    </tr>\n",
              "    <tr>\n",
              "      <th>11</th>\n",
              "      <td>even</td>\n",
              "      <td>1170</td>\n",
              "      <td>20645</td>\n",
              "    </tr>\n",
              "    <tr>\n",
              "      <th>12</th>\n",
              "      <td>made</td>\n",
              "      <td>1125</td>\n",
              "      <td>21770</td>\n",
              "    </tr>\n",
              "    <tr>\n",
              "      <th>13</th>\n",
              "      <td>also</td>\n",
              "      <td>1069</td>\n",
              "      <td>22839</td>\n",
              "    </tr>\n",
              "    <tr>\n",
              "      <th>14</th>\n",
              "      <td>many</td>\n",
              "      <td>1030</td>\n",
              "      <td>23869</td>\n",
              "    </tr>\n",
              "    <tr>\n",
              "      <th>15</th>\n",
              "      <td>must</td>\n",
              "      <td>1013</td>\n",
              "      <td>24882</td>\n",
              "    </tr>\n",
              "    <tr>\n",
              "      <th>16</th>\n",
              "      <td>af</td>\n",
              "      <td>996</td>\n",
              "      <td>25878</td>\n",
              "    </tr>\n",
              "    <tr>\n",
              "      <th>17</th>\n",
              "      <td>back</td>\n",
              "      <td>966</td>\n",
              "      <td>26844</td>\n",
              "    </tr>\n",
              "    <tr>\n",
              "      <th>18</th>\n",
              "      <td>years</td>\n",
              "      <td>950</td>\n",
              "      <td>27794</td>\n",
              "    </tr>\n",
              "    <tr>\n",
              "      <th>19</th>\n",
              "      <td>much</td>\n",
              "      <td>937</td>\n",
              "      <td>28731</td>\n",
              "    </tr>\n",
              "  </tbody>\n",
              "</table>\n",
              "</div>"
            ],
            "text/plain": [
              "     word  frequency  cumulative_frequency\n",
              "0     one       3292                  3292\n",
              "1   would       2714                  6006\n",
              "2    said       1961                  7967\n",
              "3     new       1635                  9602\n",
              "4   could       1601                 11203\n",
              "5    time       1598                 12801\n",
              "6     two       1412                 14213\n",
              "7     may       1402                 15615\n",
              "8   first       1361                 16976\n",
              "9    like       1292                 18268\n",
              "10    man       1207                 19475\n",
              "11   even       1170                 20645\n",
              "12   made       1125                 21770\n",
              "13   also       1069                 22839\n",
              "14   many       1030                 23869\n",
              "15   must       1013                 24882\n",
              "16     af        996                 25878\n",
              "17   back        966                 26844\n",
              "18  years        950                 27794\n",
              "19   much        937                 28731"
            ]
          },
          "metadata": {
            "tags": []
          },
          "execution_count": 50
        }
      ]
    },
    {
      "cell_type": "code",
      "metadata": {
        "colab": {
          "base_uri": "https://localhost:8080/"
        },
        "id": "o78aWGlZQ8Mv",
        "outputId": "0ad285e5-4ffd-452f-c319-980a5effd622"
      },
      "source": [
        "# Number of words that represent half of the total words in the corpus\n",
        "len(df_all_words_freq[df_all_words_freq['cumulative_frequency'] <= 508631/2])"
      ],
      "execution_count": 52,
      "outputs": [
        {
          "output_type": "execute_result",
          "data": {
            "text/plain": [
              "1261"
            ]
          },
          "metadata": {
            "tags": []
          },
          "execution_count": 52
        }
      ]
    },
    {
      "cell_type": "markdown",
      "metadata": {
        "id": "hJ0oe2w7Rl8_"
      },
      "source": [
        "## 200 highest frequency words in this corpus"
      ]
    },
    {
      "cell_type": "code",
      "metadata": {
        "colab": {
          "base_uri": "https://localhost:8080/"
        },
        "id": "Nt_-JOubVMba",
        "outputId": "ddf8c9cc-4193-428a-ad6d-907261e8f6dd"
      },
      "source": [
        "for key,value in freq_dis.most_common(200):\n",
        "    print(key,value)"
      ],
      "execution_count": 54,
      "outputs": [
        {
          "output_type": "stream",
          "text": [
            "one 3292\n",
            "would 2714\n",
            "said 1961\n",
            "new 1635\n",
            "could 1601\n",
            "time 1598\n",
            "two 1412\n",
            "may 1402\n",
            "first 1361\n",
            "like 1292\n",
            "man 1207\n",
            "even 1170\n",
            "made 1125\n",
            "also 1069\n",
            "many 1030\n",
            "must 1013\n",
            "af 996\n",
            "back 966\n",
            "years 950\n",
            "much 937\n",
            "way 908\n",
            "well 897\n",
            "people 847\n",
            "little 831\n",
            "state 807\n",
            "good 806\n",
            "make 794\n",
            "world 787\n",
            "still 782\n",
            "see 772\n",
            "men 763\n",
            "work 762\n",
            "long 752\n",
            "get 749\n",
            "life 715\n",
            "never 697\n",
            "day 687\n",
            "another 684\n",
            "know 683\n",
            "last 676\n",
            "us 675\n",
            "might 672\n",
            "great 665\n",
            "old 661\n",
            "year 658\n",
            "come 630\n",
            "since 628\n",
            "go 626\n",
            "came 622\n",
            "right 613\n",
            "used 611\n",
            "take 610\n",
            "three 610\n",
            "states 603\n",
            "house 591\n",
            "use 591\n",
            "without 583\n",
            "place 570\n",
            "american 569\n",
            "around 562\n",
            "however 552\n",
            "home 547\n",
            "small 542\n",
            "found 536\n",
            "thought 517\n",
            "went 507\n",
            "say 504\n",
            "part 500\n",
            "general 498\n",
            "high 497\n",
            "upon 495\n",
            "school 493\n",
            "every 491\n",
            "got 482\n",
            "united 482\n",
            "left 480\n",
            "number 472\n",
            "course 465\n",
            "war 464\n",
            "always 458\n",
            "away 456\n",
            "something 450\n",
            "fact 447\n",
            "water 445\n",
            "though 440\n",
            "public 438\n",
            "less 437\n",
            "put 437\n",
            "think 433\n",
            "almost 432\n",
            "hand 431\n",
            "enough 430\n",
            "took 426\n",
            "far 426\n",
            "head 424\n",
            "yet 419\n",
            "government 418\n",
            "system 416\n",
            "set 414\n",
            "better 414\n",
            "told 413\n",
            "night 411\n",
            "nothing 411\n",
            "end 409\n",
            "called 401\n",
            "eyes 401\n",
            "find 400\n",
            "going 399\n",
            "look 399\n",
            "asked 398\n",
            "later 397\n",
            "knew 395\n",
            "point 395\n",
            "next 394\n",
            "program 394\n",
            "city 393\n",
            "business 393\n",
            "group 390\n",
            "give 389\n",
            "toward 386\n",
            "young 385\n",
            "let 384\n",
            "days 384\n",
            "room 384\n",
            "president 382\n",
            "side 381\n",
            "social 380\n",
            "present 377\n",
            "given 377\n",
            "several 377\n",
            "order 376\n",
            "national 375\n",
            "possible 374\n",
            "rather 373\n",
            "second 373\n",
            "face 371\n",
            "per 371\n",
            "among 370\n",
            "form 370\n",
            "often 369\n",
            "important 369\n",
            "things 368\n",
            "looked 367\n",
            "early 366\n",
            "white 365\n",
            "john 362\n",
            "case 362\n",
            "large 361\n",
            "four 360\n",
            "need 360\n",
            "big 360\n",
            "become 359\n",
            "within 359\n",
            "felt 357\n",
            "children 355\n",
            "along 355\n",
            "saw 352\n",
            "best 351\n",
            "church 348\n",
            "ever 344\n",
            "least 343\n",
            "power 342\n",
            "development 334\n",
            "seemed 333\n",
            "thing 333\n",
            "light 333\n",
            "family 331\n",
            "interest 330\n",
            "want 328\n",
            "members 325\n",
            "mind 325\n",
            "area 324\n",
            "country 324\n",
            "others 323\n",
            "although 321\n",
            "turned 320\n",
            "done 319\n",
            "open 318\n",
            "god 316\n",
            "service 315\n",
            "problem 313\n",
            "certain 313\n",
            "kind 313\n",
            "different 312\n",
            "thus 312\n",
            "began 312\n",
            "door 312\n",
            "help 311\n",
            "sense 311\n",
            "means 310\n",
            "whole 309\n",
            "matter 308\n",
            "perhaps 307\n",
            "york 302\n",
            "times 300\n",
            "law 299\n",
            "human 299\n",
            "line 298\n",
            "name 294\n",
            "example 292\n"
          ],
          "name": "stdout"
        }
      ]
    },
    {
      "cell_type": "markdown",
      "metadata": {
        "id": "PAxE-Z68V7XM"
      },
      "source": [
        "## Create a graph that shows the relative frequency of these 200 words."
      ]
    },
    {
      "cell_type": "code",
      "metadata": {
        "colab": {
          "base_uri": "https://localhost:8080/",
          "height": 204
        },
        "id": "krUIBG5lV0Li",
        "outputId": "670c5434-39db-47e4-9a56-42de28e409c4"
      },
      "source": [
        "df = pd.DataFrame(freq_dis.most_common(200))\n",
        "df.columns = ['word', 'frequency']\n",
        "df.head()"
      ],
      "execution_count": 57,
      "outputs": [
        {
          "output_type": "execute_result",
          "data": {
            "text/html": [
              "<div>\n",
              "<style scoped>\n",
              "    .dataframe tbody tr th:only-of-type {\n",
              "        vertical-align: middle;\n",
              "    }\n",
              "\n",
              "    .dataframe tbody tr th {\n",
              "        vertical-align: top;\n",
              "    }\n",
              "\n",
              "    .dataframe thead th {\n",
              "        text-align: right;\n",
              "    }\n",
              "</style>\n",
              "<table border=\"1\" class=\"dataframe\">\n",
              "  <thead>\n",
              "    <tr style=\"text-align: right;\">\n",
              "      <th></th>\n",
              "      <th>word</th>\n",
              "      <th>frequency</th>\n",
              "    </tr>\n",
              "  </thead>\n",
              "  <tbody>\n",
              "    <tr>\n",
              "      <th>0</th>\n",
              "      <td>one</td>\n",
              "      <td>3292</td>\n",
              "    </tr>\n",
              "    <tr>\n",
              "      <th>1</th>\n",
              "      <td>would</td>\n",
              "      <td>2714</td>\n",
              "    </tr>\n",
              "    <tr>\n",
              "      <th>2</th>\n",
              "      <td>said</td>\n",
              "      <td>1961</td>\n",
              "    </tr>\n",
              "    <tr>\n",
              "      <th>3</th>\n",
              "      <td>new</td>\n",
              "      <td>1635</td>\n",
              "    </tr>\n",
              "    <tr>\n",
              "      <th>4</th>\n",
              "      <td>could</td>\n",
              "      <td>1601</td>\n",
              "    </tr>\n",
              "  </tbody>\n",
              "</table>\n",
              "</div>"
            ],
            "text/plain": [
              "    word  frequency\n",
              "0    one       3292\n",
              "1  would       2714\n",
              "2   said       1961\n",
              "3    new       1635\n",
              "4  could       1601"
            ]
          },
          "metadata": {
            "tags": []
          },
          "execution_count": 57
        }
      ]
    },
    {
      "cell_type": "code",
      "metadata": {
        "colab": {
          "base_uri": "https://localhost:8080/",
          "height": 669
        },
        "id": "-ZOnziULXrAj",
        "outputId": "85fe94a5-0e3b-473e-d4ec-72b084d339b5"
      },
      "source": [
        "# Calculate relative frequency\n",
        "df['relative_frequency'] = df['frequency']/df['frequency'].sum()\n",
        "\n",
        "df = df.reset_index(drop=False)\n",
        "df.head(20)"
      ],
      "execution_count": 61,
      "outputs": [
        {
          "output_type": "execute_result",
          "data": {
            "text/html": [
              "<div>\n",
              "<style scoped>\n",
              "    .dataframe tbody tr th:only-of-type {\n",
              "        vertical-align: middle;\n",
              "    }\n",
              "\n",
              "    .dataframe tbody tr th {\n",
              "        vertical-align: top;\n",
              "    }\n",
              "\n",
              "    .dataframe thead th {\n",
              "        text-align: right;\n",
              "    }\n",
              "</style>\n",
              "<table border=\"1\" class=\"dataframe\">\n",
              "  <thead>\n",
              "    <tr style=\"text-align: right;\">\n",
              "      <th></th>\n",
              "      <th>level_0</th>\n",
              "      <th>index</th>\n",
              "      <th>word</th>\n",
              "      <th>frequency</th>\n",
              "      <th>relative_frequency</th>\n",
              "    </tr>\n",
              "  </thead>\n",
              "  <tbody>\n",
              "    <tr>\n",
              "      <th>0</th>\n",
              "      <td>0</td>\n",
              "      <td>0</td>\n",
              "      <td>one</td>\n",
              "      <td>3292</td>\n",
              "      <td>0.029808</td>\n",
              "    </tr>\n",
              "    <tr>\n",
              "      <th>1</th>\n",
              "      <td>1</td>\n",
              "      <td>1</td>\n",
              "      <td>would</td>\n",
              "      <td>2714</td>\n",
              "      <td>0.024574</td>\n",
              "    </tr>\n",
              "    <tr>\n",
              "      <th>2</th>\n",
              "      <td>2</td>\n",
              "      <td>2</td>\n",
              "      <td>said</td>\n",
              "      <td>1961</td>\n",
              "      <td>0.017756</td>\n",
              "    </tr>\n",
              "    <tr>\n",
              "      <th>3</th>\n",
              "      <td>3</td>\n",
              "      <td>3</td>\n",
              "      <td>new</td>\n",
              "      <td>1635</td>\n",
              "      <td>0.014804</td>\n",
              "    </tr>\n",
              "    <tr>\n",
              "      <th>4</th>\n",
              "      <td>4</td>\n",
              "      <td>4</td>\n",
              "      <td>could</td>\n",
              "      <td>1601</td>\n",
              "      <td>0.014497</td>\n",
              "    </tr>\n",
              "    <tr>\n",
              "      <th>5</th>\n",
              "      <td>5</td>\n",
              "      <td>5</td>\n",
              "      <td>time</td>\n",
              "      <td>1598</td>\n",
              "      <td>0.014469</td>\n",
              "    </tr>\n",
              "    <tr>\n",
              "      <th>6</th>\n",
              "      <td>6</td>\n",
              "      <td>6</td>\n",
              "      <td>two</td>\n",
              "      <td>1412</td>\n",
              "      <td>0.012785</td>\n",
              "    </tr>\n",
              "    <tr>\n",
              "      <th>7</th>\n",
              "      <td>7</td>\n",
              "      <td>7</td>\n",
              "      <td>may</td>\n",
              "      <td>1402</td>\n",
              "      <td>0.012695</td>\n",
              "    </tr>\n",
              "    <tr>\n",
              "      <th>8</th>\n",
              "      <td>8</td>\n",
              "      <td>8</td>\n",
              "      <td>first</td>\n",
              "      <td>1361</td>\n",
              "      <td>0.012323</td>\n",
              "    </tr>\n",
              "    <tr>\n",
              "      <th>9</th>\n",
              "      <td>9</td>\n",
              "      <td>9</td>\n",
              "      <td>like</td>\n",
              "      <td>1292</td>\n",
              "      <td>0.011699</td>\n",
              "    </tr>\n",
              "    <tr>\n",
              "      <th>10</th>\n",
              "      <td>10</td>\n",
              "      <td>10</td>\n",
              "      <td>man</td>\n",
              "      <td>1207</td>\n",
              "      <td>0.010929</td>\n",
              "    </tr>\n",
              "    <tr>\n",
              "      <th>11</th>\n",
              "      <td>11</td>\n",
              "      <td>11</td>\n",
              "      <td>even</td>\n",
              "      <td>1170</td>\n",
              "      <td>0.010594</td>\n",
              "    </tr>\n",
              "    <tr>\n",
              "      <th>12</th>\n",
              "      <td>12</td>\n",
              "      <td>12</td>\n",
              "      <td>made</td>\n",
              "      <td>1125</td>\n",
              "      <td>0.010187</td>\n",
              "    </tr>\n",
              "    <tr>\n",
              "      <th>13</th>\n",
              "      <td>13</td>\n",
              "      <td>13</td>\n",
              "      <td>also</td>\n",
              "      <td>1069</td>\n",
              "      <td>0.009679</td>\n",
              "    </tr>\n",
              "    <tr>\n",
              "      <th>14</th>\n",
              "      <td>14</td>\n",
              "      <td>14</td>\n",
              "      <td>many</td>\n",
              "      <td>1030</td>\n",
              "      <td>0.009326</td>\n",
              "    </tr>\n",
              "    <tr>\n",
              "      <th>15</th>\n",
              "      <td>15</td>\n",
              "      <td>15</td>\n",
              "      <td>must</td>\n",
              "      <td>1013</td>\n",
              "      <td>0.009172</td>\n",
              "    </tr>\n",
              "    <tr>\n",
              "      <th>16</th>\n",
              "      <td>16</td>\n",
              "      <td>16</td>\n",
              "      <td>af</td>\n",
              "      <td>996</td>\n",
              "      <td>0.009018</td>\n",
              "    </tr>\n",
              "    <tr>\n",
              "      <th>17</th>\n",
              "      <td>17</td>\n",
              "      <td>17</td>\n",
              "      <td>back</td>\n",
              "      <td>966</td>\n",
              "      <td>0.008747</td>\n",
              "    </tr>\n",
              "    <tr>\n",
              "      <th>18</th>\n",
              "      <td>18</td>\n",
              "      <td>18</td>\n",
              "      <td>years</td>\n",
              "      <td>950</td>\n",
              "      <td>0.008602</td>\n",
              "    </tr>\n",
              "    <tr>\n",
              "      <th>19</th>\n",
              "      <td>19</td>\n",
              "      <td>19</td>\n",
              "      <td>much</td>\n",
              "      <td>937</td>\n",
              "      <td>0.008484</td>\n",
              "    </tr>\n",
              "  </tbody>\n",
              "</table>\n",
              "</div>"
            ],
            "text/plain": [
              "    level_0  index   word  frequency  relative_frequency\n",
              "0         0      0    one       3292            0.029808\n",
              "1         1      1  would       2714            0.024574\n",
              "2         2      2   said       1961            0.017756\n",
              "3         3      3    new       1635            0.014804\n",
              "4         4      4  could       1601            0.014497\n",
              "5         5      5   time       1598            0.014469\n",
              "6         6      6    two       1412            0.012785\n",
              "7         7      7    may       1402            0.012695\n",
              "8         8      8  first       1361            0.012323\n",
              "9         9      9   like       1292            0.011699\n",
              "10       10     10    man       1207            0.010929\n",
              "11       11     11   even       1170            0.010594\n",
              "12       12     12   made       1125            0.010187\n",
              "13       13     13   also       1069            0.009679\n",
              "14       14     14   many       1030            0.009326\n",
              "15       15     15   must       1013            0.009172\n",
              "16       16     16     af        996            0.009018\n",
              "17       17     17   back        966            0.008747\n",
              "18       18     18  years        950            0.008602\n",
              "19       19     19   much        937            0.008484"
            ]
          },
          "metadata": {
            "tags": []
          },
          "execution_count": 61
        }
      ]
    },
    {
      "cell_type": "code",
      "metadata": {
        "colab": {
          "base_uri": "https://localhost:8080/",
          "height": 609
        },
        "id": "wRINEbgaXxp5",
        "outputId": "6eddb047-ded7-4213-899d-5a5362ed8dc4"
      },
      "source": [
        "plt.figure(3,figsize=(20,10))\n",
        "df['relative_frequency'].plot()"
      ],
      "execution_count": 62,
      "outputs": [
        {
          "output_type": "execute_result",
          "data": {
            "text/plain": [
              "<matplotlib.axes._subplots.AxesSubplot at 0x7f28c7065f90>"
            ]
          },
          "metadata": {
            "tags": []
          },
          "execution_count": 62
        },
        {
          "output_type": "display_data",
          "data": {
            "image/png": "[encoded data removed]",
            "text/plain": [
              "<Figure size 1440x720 with 1 Axes>"
            ]
          },
          "metadata": {
            "tags": [],
            "needs_background": "light"
          }
        }
      ]
    },
    {
      "cell_type": "markdown",
      "metadata": {
        "id": "bkXIRHv-ZUmf"
      },
      "source": [
        "## Does the observed relative frequency of these words follow Zipf’s law? Explain.\n",
        "\n",
        "Zipf’s law: the frequency of any word is inversely proportional to\n",
        "its rank in the frequency table. Thus the most frequent word will\n",
        "occur approximately twice as often as the second most frequent\n",
        "word, which occurs twice as often as the fourth most frequent\n",
        "word, etc. \n",
        "According to the graph below, it safe to say that the 200 most common words roughly follow Zipf's law eventhough its not perfect."
      ]
    },
    {
      "cell_type": "code",
      "metadata": {
        "colab": {
          "base_uri": "https://localhost:8080/",
          "height": 592
        },
        "id": "5IrDJ87cZY0i",
        "outputId": "6bd0b43a-c7de-4d42-a42e-7517e2acd712"
      },
      "source": [
        "df['zip_probability'] = 0.1/(df['index'] + 1)\n",
        "plt.figure(3,figsize=(20,10))\n",
        "plt.plot(df['relative_frequency'], 'blue')\n",
        "plt.plot(df['zip_probability'], 'green')\n",
        "plt.show()"
      ],
      "execution_count": 64,
      "outputs": [
        {
          "output_type": "display_data",
          "data": {
            "image/png": "[encoded data removed]",
            "text/plain": [
              "<Figure size 1440x720 with 1 Axes>"
            ]
          },
          "metadata": {
            "tags": [],
            "needs_background": "light"
          }
        }
      ]
    },
    {
      "cell_type": "markdown",
      "metadata": {
        "id": "J4Xa6limdOm_"
      },
      "source": [
        "## In what ways do you think the frequency of the words in this corpus differ from “all words in all corpora.”\n",
        "\n",
        " it is a general language corpus containing 500 samples of American English, totaling roughly one million words, compiled from works published in the United States in 1961. It is considered small and slightly dated compared to other corporas available. \n",
        "\n",
        "\n",
        "Reference:\n",
        "https://www1.essex.ac.uk/linguistics/external/clmt/w3c/corpus_ling/content/corpora/list/private/brown/brown.html\n"
      ]
    },
    {
      "cell_type": "code",
      "metadata": {
        "id": "dUHAS9PSfVLi"
      },
      "source": [
        ""
      ],
      "execution_count": null,
      "outputs": []
    }
  ]
}